{
    "metadata": {
        "kernelspec": {
            "name": "SQL",
            "display_name": "SQL",
            "language": "sql"
        },
        "language_info": {
            "name": "sql",
            "version": ""
        }
    },
    "nbformat_minor": 2,
    "nbformat": 4,
    "cells": [
        {
            "cell_type": "markdown",
            "source": [
                "christianfinancesdb.database.windows.net"
            ],
            "metadata": {
                "azdata_cell_guid": "3a2b0dba-563b-4ada-9dbf-27c56075252d"
            },
            "attachments": {}
        },
        {
            "cell_type": "code",
            "source": [
                " -- START CHANGES\r\n",
                " BEGIN TRANSACTION;"
            ],
            "metadata": {
                "language": "sql",
                "azdata_cell_guid": "0b460ea9-f490-4713-b53e-4d4ede1d2157",
                "tags": [
                    "hide_input"
                ]
            },
            "outputs": [],
            "execution_count": null
        },
        {
            "cell_type": "code",
            "source": [
                " -- END CHANGES\r\n",
                "-- ROLLBACK TRANSACTION;\r\n",
                "-- COMMIT TRANSACTION;"
            ],
            "metadata": {
                "language": "sql",
                "azdata_cell_guid": "d3893468-c0bd-4443-b37a-ce1965615297",
                "tags": [
                    "hide_input"
                ]
            },
            "outputs": [],
            "execution_count": null
        },
        {
            "cell_type": "code",
            "source": [
                " -- Display Account Totals\r\n",
                " SELECT * FROM AccountTotals;\r\n",
                "\r\n",
                "-- CREATE VIEW AccountTotals\r\n",
                "-- AS \r\n",
                "-- SELECT Account, SUM(Amount) AS TotalAmount\r\n",
                "-- FROM Transactions\r\n",
                "-- GROUP BY Account;\r\n",
                "\r\n",
                "-- 8887 - Navy Checking\r\n",
                "-- 5260 - Navy Savings\r\n",
                "-- 3601 - Navy CD\r\n",
                "-- 8818 - Navy Credit\r\n",
                "-- 3505 - Schwab Checking\r\n",
                "-- 2428 - Schwab Rent\r\n",
                "-- 0287 - Costco Credit\r\n",
                "-- 1815 - Amazon Credit\r\n",
                "-- 0500 - United Credit (cancelled)\r\n",
                "-- 3741 - Marriott Credit\r\n",
                "-- 5912 - EDD\r\n",
                "-- 0780 - EBT\r\n",
                "-- 2688 - Schwab Regular Brokerage\r\n",
                "-- 2406 - Schwab Intelligent Brokerage\r\n",
                "-- 6376 - Schwab Roth IRA"
            ],
            "metadata": {
                "azdata_cell_guid": "c156a5e7-3fe9-4e8d-8760-6de75231631d",
                "language": "sql",
                "tags": [
                    "hide_input"
                ]
            },
            "outputs": [
                {
                    "output_type": "display_data",
                    "data": {
                        "text/html": "(15 rows affected)"
                    },
                    "metadata": {}
                },
                {
                    "output_type": "display_data",
                    "data": {
                        "text/html": "Total execution time: 00:00:00.023"
                    },
                    "metadata": {}
                },
                {
                    "output_type": "execute_result",
                    "metadata": {},
                    "execution_count": 4,
                    "data": {
                        "application/vnd.dataresource+json": {
                            "schema": {
                                "fields": [
                                    {
                                        "name": "Account"
                                    },
                                    {
                                        "name": "TotalAmount"
                                    }
                                ]
                            },
                            "data": [
                                {
                                    "Account": "2688",
                                    "TotalAmount": "11034.20"
                                },
                                {
                                    "Account": "2428",
                                    "TotalAmount": "3033.51"
                                },
                                {
                                    "Account": "0500",
                                    "TotalAmount": "0.00"
                                },
                                {
                                    "Account": "-",
                                    "TotalAmount": "-4969.57"
                                },
                                {
                                    "Account": "5260",
                                    "TotalAmount": "10.26"
                                },
                                {
                                    "Account": "3741",
                                    "TotalAmount": "-1046.27"
                                },
                                {
                                    "Account": "6376",
                                    "TotalAmount": "17023.87"
                                },
                                {
                                    "Account": "3601",
                                    "TotalAmount": "3076.03"
                                },
                                {
                                    "Account": "1815",
                                    "TotalAmount": "-272.07"
                                },
                                {
                                    "Account": "3505",
                                    "TotalAmount": "202.37"
                                },
                                {
                                    "Account": "2406",
                                    "TotalAmount": "18100.00"
                                },
                                {
                                    "Account": "0287",
                                    "TotalAmount": "-1472.36"
                                },
                                {
                                    "Account": "8818",
                                    "TotalAmount": "-189.99"
                                },
                                {
                                    "Account": "8887",
                                    "TotalAmount": "67135.02"
                                },
                                {
                                    "Account": "venmo",
                                    "TotalAmount": "60.76"
                                }
                            ]
                        },
                        "text/html": [
                            "<table>",
                            "<tr><th>Account</th><th>TotalAmount</th></tr>",
                            "<tr><td>2688</td><td>11034.20</td></tr>",
                            "<tr><td>2428</td><td>3033.51</td></tr>",
                            "<tr><td>0500</td><td>0.00</td></tr>",
                            "<tr><td>-</td><td>-4969.57</td></tr>",
                            "<tr><td>5260</td><td>10.26</td></tr>",
                            "<tr><td>3741</td><td>-1046.27</td></tr>",
                            "<tr><td>6376</td><td>17023.87</td></tr>",
                            "<tr><td>3601</td><td>3076.03</td></tr>",
                            "<tr><td>1815</td><td>-272.07</td></tr>",
                            "<tr><td>3505</td><td>202.37</td></tr>",
                            "<tr><td>2406</td><td>18100.00</td></tr>",
                            "<tr><td>0287</td><td>-1472.36</td></tr>",
                            "<tr><td>8818</td><td>-189.99</td></tr>",
                            "<tr><td>8887</td><td>67135.02</td></tr>",
                            "<tr><td>venmo</td><td>60.76</td></tr>",
                            "</table>"
                        ]
                    }
                }
            ],
            "execution_count": 4
        },
        {
            "cell_type": "code",
            "source": [
                " -- Total by month given account\r\n",
                "DECLARE @AccountNumber VARCHAR(10);\r\n",
                "SET @AccountNumber = '0287';\r\n",
                "WITH DateList AS (\r\n",
                "  SELECT BeforeDate FROM (VALUES \r\n",
                "('2018-01-01'), ('2018-02-01'), ('2018-03-01'), ('2018-04-01'), ('2018-05-01'), ('2018-06-01'), ('2018-07-01'), ('2018-08-01'), ('2018-09-01'), ('2018-10-01'), ('2018-11-01'), ('2018-12-01'),\r\n",
                "('2019-01-01'), ('2019-02-01'), ('2019-03-01'), ('2019-04-01'), ('2019-05-01'), ('2019-06-01'), ('2019-07-01'), ('2019-08-01'), ('2019-09-01'), ('2019-10-01'), ('2019-11-01'), ('2019-12-01'),\r\n",
                "('2020-01-01'), ('2020-02-01'), ('2020-03-01'), ('2020-04-01'), ('2020-05-01'), ('2020-06-01'), ('2020-07-01'), ('2020-08-01'), ('2020-09-01'), ('2020-10-01'), ('2020-11-01'), ('2020-12-01'),\r\n",
                "('2021-01-01'), ('2021-02-01'), ('2021-03-01'), ('2021-04-01'), ('2021-05-01'), ('2021-06-01'), ('2021-07-01'), ('2021-08-01'), ('2021-09-01'), ('2021-10-01'), ('2021-11-01'), ('2021-12-01'),\r\n",
                "('2022-01-01'), ('2022-02-01'), ('2022-03-01'), ('2022-04-01'), ('2022-05-01'), ('2022-06-01'), ('2022-07-01'), ('2022-08-01'), ('2022-09-01'), ('2022-10-01'), ('2022-11-01'), ('2022-12-01'),\r\n",
                "('2023-01-01'), ('2023-02-01'), ('2023-03-01'), ('2023-04-01'), ('2023-05-01'), ('2023-06-01'), ('2023-07-01'), ('2023-08-01'), ('2023-09-01'), ('2023-10-01'), ('2023-11-01'), ('2023-12-01'),\r\n",
                "('2024-01-01'), ('2024-02-01'), ('2024-03-01'), ('2024-04-01'), ('2024-05-01'), ('2024-06-01') , ('2024-07-01'), ('2024-08-01'), ('2024-09-01')--, ('2024-10-01'), ('2024-11-01'), ('2024-12-01'),\r\n",
                "-- ('2025-01-01'), ('2025-02-01'), ('2025-03-01'), ('2025-04-01'), ('2025-05-01'), ('2025-06-01'), ('2025-07-01'), ('2025-08-01'), ('2025-09-01'), ('2025-10-01'), ('2025-11-01'), ('2025-12-01')\r\n",
                ") AS DateList(BeforeDate))\r\n",
                "SELECT dl.BeforeDate, SUM(yt.Amount) AS TotalAmount\r\n",
                "FROM DateList dl CROSS JOIN Transactions yt\r\n",
                "WHERE (yt.Account = @AccountNumber) AND yt.DateTracked < dl.BeforeDate\r\n",
                "GROUP BY dl.BeforeDate ORDER BY dl.BeforeDate DESC;"
            ],
            "metadata": {
                "azdata_cell_guid": "3ea4cdf4-c25e-412e-aed9-cea9a4538b8a",
                "language": "sql",
                "tags": [
                    "hide_input"
                ]
            },
            "outputs": [],
            "execution_count": null
        },
        {
            "cell_type": "code",
            "source": [
                " -- Select Month of Transactions by DateTracked\r\n",
                "EXEC SelectRecordsByMonth @year = 2024, @month = 4;\r\n",
                "\r\n",
                "-- CREATE PROCEDURE SelectRecordsByMonth\r\n",
                "--     @year INT,\r\n",
                "--     @month INT\r\n",
                "-- AS\r\n",
                "-- BEGIN\r\n",
                "--     SET NOCOUNT ON;\r\n",
                "\r\n",
                "--     DECLARE @startDate DATE, @endDate DATE;\r\n",
                "--     SET @startDate = DATEFROMPARTS(@year, @month, 1);\r\n",
                "--     SET @endDate = DATEADD(DAY, -1, DATEADD(MONTH, 1, @startDate));\r\n",
                "\r\n",
                "--     SELECT *\r\n",
                "--     FROM [dbo].[Transactions]\r\n",
                "--     WHERE [DateTracked] BETWEEN @startDate AND @endDate\r\n",
                "--     ORDER BY DateTracked;\r\n",
                "-- END;"
            ],
            "metadata": {
                "language": "sql",
                "azdata_cell_guid": "6063f071-a8e9-42ad-b449-ac6f408d03dc",
                "tags": [
                    "hide_input"
                ]
            },
            "outputs": [],
            "execution_count": null
        },
        {
            "cell_type": "code",
            "source": [
                " -- Total by Specific Date\r\n",
                "DECLARE @AccountNumber VARCHAR(10);\r\n",
                "DECLARE @Date DATE;\r\n",
                "SET @AccountNumber = '8887';\r\n",
                "SET @Date = '2024-05-01';\r\n",
                "SELECT SUM(Amount) FROM Transactions\r\n",
                "WHERE Account = @AccountNumber AND DateTracked < @Date;"
            ],
            "metadata": {
                "azdata_cell_guid": "6fb379d5-23cf-4e19-b48d-fe248556aeb5",
                "language": "sql",
                "tags": [
                    "hide_input"
                ]
            },
            "outputs": [],
            "execution_count": null
        },
        {
            "cell_type": "code",
            "source": [
                " -- Select by Tag\r\n",
                "DECLARE @Tag VARCHAR(100);\r\n",
                "-- SET @Tag = '%Roth%';\r\n",
                "-- SELECT * FROM [dbo].[Transactions] WHERE Tags LIKE @Tag\r\n",
                "SELECT * FROM [dbo].[Transactions] WHERE Amount LIKE '%.79%'\r\n",
                "ORDER BY DateTracked DESC;"
            ],
            "metadata": {
                "azdata_cell_guid": "2c8a8a6d-b794-4306-94cb-8208608ea0c0",
                "language": "sql",
                "tags": [
                    "hide_input"
                ]
            },
            "outputs": [],
            "execution_count": null
        },
        {
            "cell_type": "code",
            "source": [
                " -- Dispay All Sorted from Account\r\n",
                "DECLARE @Account VARCHAR(5);\r\n",
                "SET @Account = '0287';\r\n",
                "\r\n",
                "SELECT * FROM [dbo].[Transactions]\r\n",
                "WHERE Account = @Account\r\n",
                "ORDER BY DateTracked DESC;"
            ],
            "metadata": {
                "language": "sql",
                "azdata_cell_guid": "5de47195-c67b-4b0f-afda-0952d3fc9da0",
                "tags": [
                    "hide_input"
                ]
            },
            "outputs": [],
            "execution_count": null
        },
        {
            "cell_type": "code",
            "source": [
                " -- Fill Empty DateTracked\r\n",
                "UPDATE [dbo].[Transactions]\r\n",
                "SET DateTracked = ActualDate\r\n",
                "WHERE DateTracked is NULL;"
            ],
            "metadata": {
                "language": "sql",
                "azdata_cell_guid": "80d8ff1c-0fa1-4e29-90d5-b2150cc539f8",
                "tags": [
                    "hide_input"
                ]
            },
            "outputs": [],
            "execution_count": null
        },
        {
            "cell_type": "code",
            "source": [
                " -- Display Categories Totals\r\n",
                " SELECT * FROM Categories;\r\n",
                "\r\n",
                "-- CREATE VIEW Categories\r\n",
                "-- AS \r\n",
                "-- SELECT Category, SUM(Amount) AS TotalAmount\r\n",
                "-- FROM Transactions\r\n",
                "-- GROUP BY Category;"
            ],
            "metadata": {
                "azdata_cell_guid": "aafd1cd5-7c0a-4f38-8249-9b26b31aa94f",
                "language": "sql",
                "tags": [
                    "hide_input"
                ]
            },
            "outputs": [],
            "execution_count": null
        },
        {
            "cell_type": "code",
            "source": [
                " -- Change Value\r\n",
                "DECLARE @Key INT;\r\n",
                "DECLARE @Column VARCHAR(20);\r\n",
                "DECLARE @Value VARCHAR(50);\r\n",
                "-----\r\n",
                "SET @Key = 1816;\r\n",
                "SET @Column = 'DateTracked';\r\n",
                "SET @Value = '2024-05-31';\r\n",
                "-----\r\n",
                "DECLARE @SQL NVARCHAR(MAX);\r\n",
                "SET @SQL = N'UPDATE Transactions SET ' + QUOTENAME(@Column) + ' = @dynValue WHERE pKey = @dynKey';\r\n",
                "EXEC sp_executesql @SQL, N'@dynKey INT, @dynValue DATETIME', @dynKey = @Key, @dynValue = @Value;"
            ],
            "metadata": {
                "azdata_cell_guid": "f746492e-ba64-466c-afc7-bfb087465b3e",
                "language": "sql",
                "tags": [
                    "hide_input"
                ]
            },
            "outputs": [],
            "execution_count": null
        },
        {
            "cell_type": "code",
            "source": [
                "-- Get Constraints\r\n",
                "SELECT \r\n",
                "    cc.name AS ConstraintName,\r\n",
                "    OBJECT_NAME(cc.parent_object_id) AS Transactions,\r\n",
                "    COL_NAME(cc.parent_object_id, cc.parent_column_id) AS Account\r\n",
                "FROM \r\n",
                "    sys.check_constraints AS cc\r\n",
                "WHERE \r\n",
                "    OBJECT_NAME(cc.parent_object_id) = 'Transactions';"
            ],
            "metadata": {
                "azdata_cell_guid": "20ac8b26-38d4-4b4f-94ef-545cbda27419",
                "language": "sql",
                "tags": [
                    "hide_input"
                ]
            },
            "outputs": [],
            "execution_count": null
        },
        {
            "cell_type": "code",
            "source": [
                "-- Add Constraint\r\n",
                "ALTER TABLE dbo.Transactions\r\n",
                "ADD CONSTRAINT [ConstraintName]  -- Use the same or a new constraint name\r\n",
                "CHECK (\r\n",
                "    Account IN (\r\n",
                "        '-', '2428', '3505', 'venmo', '0780', '5913', '3741', '0500', '1815', \r\n",
                "        '0287', '8818', '3601', '5260', '8887', '1234', '5678'  -- Include new values\r\n",
                "    )\r\n",
                ");"
            ],
            "metadata": {
                "azdata_cell_guid": "c260733c-c97c-4501-b669-e8f8792e1bc5",
                "language": "sql",
                "tags": [
                    "hide_input"
                ]
            },
            "outputs": [],
            "execution_count": null
        },
        {
            "cell_type": "code",
            "source": [
                "-- Insert Rows\r\n",
                "INSERT INTO [dbo].[Transactions]\r\n",
                "( -- Columns to insert data into\r\n",
                " [ActualDate], [DateTracked], [Description], [Category], [Account], [Amount], [Tags]\r\n",
                ")\r\n",
                "VALUES\r\n",
                "(\r\n",
                " '07/31/2024', '07/31/2024', 'Transfer from Schwab Regular', 'Transfer', '2688', -$3600.00, 'Brokerage ; Regular'\r\n",
                "),\r\n",
                "(\r\n",
                " '07/31/2024', '07/31/2024', 'Transfer from Schwab Intelligent', 'Transfer', '2406', -$1600.00, 'Brokerage ; Intelligent'\r\n",
                "),\r\n",
                "(\r\n",
                " '07/23/2024', '07/23/2024', 'Transfer from Schwab Regular', 'Transfer', '2688', -$5100.00, 'Brokerage ; Regular'\r\n",
                "),\r\n",
                "(\r\n",
                " '07/26/2024', '07/26/2024', 'Transfer from Schwab Intelligent', 'Transfer', '2406', -$1700.00, 'Brokerage ; Intelligent'\r\n",
                "),\r\n",
                "(\r\n",
                " '07/18/2024', '07/18/2024', 'Transfer from Schwab Regular', 'Transfer', '2688', -$1500.00, 'Brokerage ; Regular'\r\n",
                "),\r\n",
                "(\r\n",
                " '07/23/2024', '07/23/2024', 'Transfer from Schwab Intelligent', 'Transfer', '2406', -$1800.00, 'Brokerage ; Intelligent'\r\n",
                "),\r\n",
                "(\r\n",
                " '07/18/2024', '07/18/2024', 'Transfer from Schwab Regular', 'Transfer', '2688', -$3999.39, 'Brokerage ; Regular'\r\n",
                "),\r\n",
                "(\r\n",
                " '07/18/2024', '07/18/2024', 'Transfer from Schwab Intelligent', 'Transfer', '2406', -$2300.00, 'Brokerage ; Intelligent'\r\n",
                "),\r\n",
                "(\r\n",
                " '07/11/2024', '07/11/2024', 'Transfer from Schwab Regular', 'Transfer', '2688', -$6000.00, 'Brokerage ; Regular'\r\n",
                "),\r\n",
                "(\r\n",
                " '07/17/2024', '07/17/2024', 'Transfer from Schwab Intelligent', 'Transfer', '2406', -$2700.00, 'Brokerage ; Intelligent'\r\n",
                "),\r\n",
                "(\r\n",
                " '07/17/2024', '07/17/2024', 'Transfer from Schwab Intelligent', 'Transfer', '2406', $500.00, 'Brokerage ; Intelligent'\r\n",
                "),\r\n",
                "(\r\n",
                " '07/09/2024', '07/09/2024', 'Transfer from Schwab Regular', 'Transfer', '2688', -$4365.00, 'Brokerage ; Regular'\r\n",
                "),\r\n",
                "(\r\n",
                " '07/03/2024', '07/03/2024', 'Transfer from Schwab Intelligent', 'Transfer', '2406', $500.00, 'Brokerage ; Intelligent'\r\n",
                ")\r\n",
                "GO"
            ],
            "metadata": {
                "azdata_cell_guid": "ff97c3d4-b6d2-4192-a43f-dc513759b3be",
                "language": "sql",
                "tags": [
                    "hide_input"
                ]
            },
            "outputs": [],
            "execution_count": null
        },
        {
            "cell_type": "code",
            "source": [
                "-- Delete Rows\r\n",
                "DELETE FROM Transactions\r\n",
                "WHERE pKey IN (4583, 4584, 4585, 4586);"
            ],
            "metadata": {
                "azdata_cell_guid": "600a730a-16cc-4b50-aadf-0e62b376ce40",
                "language": "sql"
            },
            "outputs": [
                {
                    "output_type": "display_data",
                    "data": {
                        "text/html": "(4 rows affected)"
                    },
                    "metadata": {}
                },
                {
                    "output_type": "display_data",
                    "data": {
                        "text/html": "Total execution time: 00:00:00.044"
                    },
                    "metadata": {}
                }
            ],
            "execution_count": 3
        }
    ]
}